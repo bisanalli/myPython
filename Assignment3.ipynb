{
 "cells": [
  {
   "cell_type": "markdown",
   "id": "9a9054bb-9014-4b49-99ef-7b29ed2c9083",
   "metadata": {},
   "source": [
    "1.Why are functions advantageous to have in your programs?\n",
    "   here few advantages of function \n",
    "A.Code Reusability: Functions allow you to encapsulate a set of instructions into a reusable block of code. Once you define a function, you can call it multiple times from different parts of your program.\n",
    "B.Modularity: Functions promote modularity by breaking down your code into smaller, self-contained units. Each function performs a specific task or operation, making your code more organized and easier to understand.\n",
    "C.Abstraction: Functions allow you to abstract away complex implementation details. By defining a function with a meaningful name and providing a well-defined interface.\n",
    "D.Readability: Functions enhance the readability of your code by giving meaningful names to blocks of code. Well-named functions make your code self-explanatory and easier to understand.\n",
    "E.Testing and Debugging: Functions facilitate testing and debugging. You can write test cases specifically for individual functions to verify their correctness. By isolating functions, you can debug them independently, making it easier to identify and fix issues.\n",
    "F.Code Organization: Functions help organize your code by grouping related functionality together. By dividing your program into smaller functions, you can focus on specific tasks at a time, making it easier to manage and maintain the codebase.\n",
    "\n"
   ]
  },
  {
   "cell_type": "markdown",
   "id": "3cd83326-400f-46e3-9627-84bff0a42243",
   "metadata": {},
   "source": [
    "2. When does the code in a function run: when it's specified or when it's called?\n",
    "The code within function will run when function is called .\n",
    "Specify the code block that should be executed when the function is called. \n"
   ]
  },
  {
   "cell_type": "markdown",
   "id": "7e451f8c-1442-4e59-8bd8-acb369184191",
   "metadata": {},
   "source": [
    "3. What statement creates a function?\n",
    "In Python, the def statement is used to create a function. The def keyword is followed by the function name, parentheses (), and a colon :. The code block that belongs to the function is indented below the def statement.\n",
    "\n",
    "def HelloWorl()\n",
    "    print(\"hello\")\n"
   ]
  },
  {
   "cell_type": "markdown",
   "id": "1da468dd-4e5d-49f1-a593-a9a5250e4f2f",
   "metadata": {},
   "source": [
    "4. What is the difference between a function and a function call?\n",
    "Function: A function is a block of reusable code that performs a specific task or a set of related tasks. It is defined using the def statement in Python. Functions have a name, can have parameters (optional), and may have a return value (also optional). They encapsulate a set of instructions that can be executed when the function is called.\n",
    "\n",
    "Function Call: A function call refers to the actual execution of a function at a specific point in a program. When you call a function, you use its name followed by parentheses () that may contain arguments or parameters (if the function expects any). The function call causes the execution of the code within the function's code block. Once the function completes its task or reaches a return statement, the control flow returns to the point of the function call.\n",
    "\n"
   ]
  },
  {
   "cell_type": "code",
   "execution_count": 1,
   "id": "46f74121-7c23-4fc4-bd4d-f1033167b82b",
   "metadata": {},
   "outputs": [
    {
     "name": "stdout",
     "output_type": "stream",
     "text": [
      "Hello mukta\n"
     ]
    }
   ],
   "source": [
    "def greet(name):\n",
    "    print(\"Hello\" ,name )\n",
    "greet(\"mukta\")"
   ]
  },
  {
   "cell_type": "markdown",
   "id": "1f1a461d-c2a8-493f-8c9c-c16d43baf82b",
   "metadata": {},
   "source": [
    "5. How many global scopes are there in a Python program? How many local scopes?\n",
    "There is only one global scope in a Python programme, which is the program's \n",
    "outermost scope. The global scope is available from everywhere \n",
    "in the programme, and variables specified within it are termed global variables. \n",
    "\n",
    "In contrast, local scopes can be defined within functions, classes, or other code blocks. A new local scope is produced each time a function is invoked or a code block is entered. Local scopes are only present while the associated function or code block is being executed.\n",
    "\n"
   ]
  },
  {
   "cell_type": "markdown",
   "id": "f8e94809-7801-4177-86dd-914f702132b4",
   "metadata": {},
   "source": [
    "6. What happens to variables in a local scope when the function call returns?\n",
    "when a function call returns, the local variables within that function's scope are destroyed. This means that they are no longer accessible or usable outside of the function.\n",
    "\n",
    "The memory allocated for the local variables is released, and their values are lost. If you attempt to access a local variable after the function call has returned, you will encounter a NameError, indicating that the variable is not defined.\n"
   ]
  },
  {
   "cell_type": "code",
   "execution_count": 5,
   "id": "05b28233-380b-4d20-96be-6db9c2146b1a",
   "metadata": {},
   "outputs": [
    {
     "name": "stdout",
     "output_type": "stream",
     "text": [
      "10\n"
     ]
    },
    {
     "ename": "NameError",
     "evalue": "name 'x' is not defined",
     "output_type": "error",
     "traceback": [
      "\u001b[0;31m---------------------------------------------------------------------------\u001b[0m",
      "\u001b[0;31mNameError\u001b[0m                                 Traceback (most recent call last)",
      "Cell \u001b[0;32mIn [5], line 9\u001b[0m\n\u001b[1;32m      6\u001b[0m my_function()  \u001b[38;5;66;03m# Output: 10\u001b[39;00m\n\u001b[1;32m      8\u001b[0m \u001b[38;5;66;03m# Accessing the local variable outside the function will result in a NameError\u001b[39;00m\n\u001b[0;32m----> 9\u001b[0m \u001b[38;5;28mprint\u001b[39m(\u001b[43mx\u001b[49m)\n",
      "\u001b[0;31mNameError\u001b[0m: name 'x' is not defined"
     ]
    }
   ],
   "source": [
    "#example.\n",
    "def FunctionLocal():\n",
    "    x = 30\n",
    "    print(x)\n",
    "\n",
    "FunctionLocal()  # Output: 10\n",
    "\n",
    "# Accessing the local variable outside the function will result in a NameError\n",
    "print(x)  # NameError: name 'x' is not defined\n"
   ]
  },
  {
   "cell_type": "markdown",
   "id": "c7083954-07f0-4e31-b911-216d17808d86",
   "metadata": {},
   "source": [
    "7. What is the concept of a return value? Is it possible to have a return value in an expression?\n",
    "The concept of a return value in programming refers to the value that a function can provide back to the caller. When a function is called, it may perform certain operations and produce a result. The return value allows the function to communicate this result to the caller, enabling the caller to use the value for further computations or store it in a variable.\n",
    "\n",
    "In Python, functions use the return statement to specify the value they want to send back. When the return statement is encountered, the function execution halts, and the specified value is passed back to the caller. If no return statement is used, the function implicitly returns None."
   ]
  },
  {
   "cell_type": "code",
   "execution_count": 6,
   "id": "2aa9dbf1-3cc0-4641-b304-2d0c9c02339a",
   "metadata": {},
   "outputs": [
    {
     "name": "stdout",
     "output_type": "stream",
     "text": [
      "5\n"
     ]
    }
   ],
   "source": [
    "def addNum(a, b):\n",
    "    return a+b\n",
    "\n",
    "sum =addNum(2,3)\n",
    "print(sum)\n"
   ]
  },
  {
   "cell_type": "code",
   "execution_count": null,
   "id": "2dbda80d-b725-451a-8722-e5de5755a7f7",
   "metadata": {},
   "outputs": [],
   "source": [
    "8. If a function does not have a return statement, what is the return value of a call to that function?\n",
    "If a function  does not have a return statement, or if it reaches the end of the function \n",
    "without encountering a return statement, the function will implicitly return None.\n"
   ]
  },
  {
   "cell_type": "code",
   "execution_count": null,
   "id": "1f39519c-624f-491d-979f-3e34fbf0e742",
   "metadata": {},
   "outputs": [],
   "source": [
    "9.How do you make a function variable refer to the global variable?\n",
    "To make a function variable refer to a global variable in Python, you can use\n",
    "the global keyword within the function. \n",
    "The global keyword allows you to indicate that a variable inside the function should refer to the global \n",
    "variable with the same name,rather than creating a new local variable\n"
   ]
  },
  {
   "cell_type": "code",
   "execution_count": 7,
   "id": "958feb5b-65d7-4e24-bcb2-d43893cb86d7",
   "metadata": {},
   "outputs": [
    {
     "name": "stdout",
     "output_type": "stream",
     "text": [
      "Mukta \n",
      "Mukta Bisanalli\n"
     ]
    }
   ],
   "source": [
    "name = \"Mukta \"\n",
    "\n",
    "def modify_global():\n",
    "    global name\n",
    "    name = \"Mukta Bisanalli\"\n",
    "\n",
    "print(name)  # Output: Mukta\n",
    "modify_global()\n",
    "print(name)  # Output:  Mukta Bisanalli\n",
    "\n"
   ]
  },
  {
   "cell_type": "markdown",
   "id": "b0bace35-ba66-42ea-a773-cbc59b55adcd",
   "metadata": {},
   "source": [
    "10. What is the data type of None?\n",
    "None is a special constant that represents the absence of a value. \n",
    "It is often used to indicate that something does not have a meaningful \n",
    "value or when there is no specific value to return.\n",
    "\n",
    "None is considered to be a data type of its own, called NoneType. \n",
    "It is the sole instance of the NoneType class. This means that None is an object of type NoneType."
   ]
  },
  {
   "cell_type": "markdown",
   "id": "b4c2cc7f-6f05-4129-a168-5bcd1b37d9ae",
   "metadata": {},
   "source": [
    "11. What does the sentence import areallyourpetsnamederic do?\n",
    "\n",
    "The sentence \"import areallyourpetsnamederic\" is not a valid Python import statement. In Python, the import keyword is used to import modules or specific objects from modules.\n",
    "\n",
    "example\n",
    "#import math\n"
   ]
  },
  {
   "cell_type": "markdown",
   "id": "013e9e88-2826-4770-8bb0-544743c67d5b",
   "metadata": {},
   "source": [
    "12. If you had a bacon() feature in a spam module, what would you call it after importing spam?\n",
    "If you have imported a module named spam that contains a function called bacon(), \n",
    "you can call the bacon() function using the module name \n",
    "as a prefix followed by the function name.\n",
    "import spam\n",
    "spam.bacon()\n",
    "\n",
    "\n"
   ]
  },
  {
   "cell_type": "markdown",
   "id": "67b7c446-64d3-46e7-b0fb-ebd06f345e2c",
   "metadata": {},
   "source": [
    "13. What can you do to save a programme from crashing if it encounters an error?\n",
    "To prevent a program from crashing when it encounters an error, you can implement error handling \n",
    "techniques using exception handling. By handling exceptions, you can anticipate and handle potential\n",
    "errors gracefully, allowing your program to continue running or take appropriate actions\n",
    "instead of abruptly terminating."
   ]
  },
  {
   "cell_type": "code",
   "execution_count": 10,
   "id": "4ec9f7cd-6dae-445e-a3f4-952d755bd514",
   "metadata": {},
   "outputs": [
    {
     "name": "stdout",
     "output_type": "stream",
     "text": [
      "Error: you cannot divided number by zero.\n"
     ]
    }
   ],
   "source": [
    "#example\n",
    "try:\n",
    "    x=100/0\n",
    "except ZeroDivisionError:\n",
    "    print(\"Error: you cannot divided number by zero.\")\n",
    "    "
   ]
  },
  {
   "cell_type": "markdown",
   "id": "e560ccd7-3fae-4b8e-8681-b4034b2ad6a2",
   "metadata": {},
   "source": [
    "14. What is the purpose of the try clause? What is the purpose of the except clause?\n",
    "\n",
    "The purpose of the try clause is to enclose the code block that may raise an exception. \n",
    "It identifies the section of code where you expect a potential error to occur.\n",
    "By placing the code within a try block, you are instructing Python to monitor for any \n",
    "exceptions that may be raised within that block.\n",
    "\n",
    "The purpose of the except clause is to specify the code block that should be executed when a particular exception occurs. You can have multiple except clauses to handle different types of exceptions separately. When an exception occurs within the try block, Python checks each except clause in order. If the type of the raised exception matches any of the specified ExceptionType in the except clause, the corresponding block of code is executed.\n",
    "\n",
    "\n"
   ]
  },
  {
   "cell_type": "code",
   "execution_count": null,
   "id": "06ee1a54-1a75-4328-bb4f-812bf856c8cf",
   "metadata": {},
   "outputs": [],
   "source": []
  },
  {
   "cell_type": "code",
   "execution_count": null,
   "id": "0e2376f7-4cbe-480d-b86c-ed00201fe2f3",
   "metadata": {},
   "outputs": [],
   "source": []
  },
  {
   "cell_type": "code",
   "execution_count": null,
   "id": "e2249ad4-8863-446c-9041-c0fc6368dc7c",
   "metadata": {},
   "outputs": [],
   "source": []
  }
 ],
 "metadata": {
  "kernelspec": {
   "display_name": "Python 3 (ipykernel)",
   "language": "python",
   "name": "python3"
  },
  "language_info": {
   "codemirror_mode": {
    "name": "ipython",
    "version": 3
   },
   "file_extension": ".py",
   "mimetype": "text/x-python",
   "name": "python",
   "nbconvert_exporter": "python",
   "pygments_lexer": "ipython3",
   "version": "3.10.6"
  }
 },
 "nbformat": 4,
 "nbformat_minor": 5
}
