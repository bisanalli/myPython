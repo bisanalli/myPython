{
 "cells": [
  {
   "cell_type": "code",
   "execution_count": 2,
   "id": "207a9c62-d143-406b-9c27-ca9dd5ace7c2",
   "metadata": {},
   "outputs": [
    {
     "name": "stdout",
     "output_type": "stream",
     "text": [
      "[1, 3, 12, 0, 0]\n"
     ]
    },
    {
     "ename": "NameError",
     "evalue": "name 'nums2' is not defined",
     "output_type": "error",
     "traceback": [
      "\u001b[0;31m---------------------------------------------------------------------------\u001b[0m",
      "\u001b[0;31mNameError\u001b[0m                                 Traceback (most recent call last)",
      "Cell \u001b[0;32mIn [2], line 19\u001b[0m\n\u001b[1;32m     16\u001b[0m \u001b[38;5;28mprint\u001b[39m(ZeroMove(nums1))\n\u001b[1;32m     18\u001b[0m num2\u001b[38;5;241m=\u001b[39m[\u001b[38;5;241m0\u001b[39m,\u001b[38;5;241m1\u001b[39m,\u001b[38;5;241m0\u001b[39m,\u001b[38;5;241m3\u001b[39m,\u001b[38;5;241m12\u001b[39m]\n\u001b[0;32m---> 19\u001b[0m \u001b[38;5;28mprint\u001b[39m(ZeroMove(\u001b[43mnums2\u001b[49m))\n",
      "\u001b[0;31mNameError\u001b[0m: name 'nums2' is not defined"
     ]
    }
   ],
   "source": [
    "def ZeroMove(numbers):\n",
    "    n = len(numbers)\n",
    "    leftNum = 0\n",
    "    for rightNum in range(n):\n",
    "        if numbers[rightNum] != 0:\n",
    "            numbers[leftNum] = numbers[rightNum]\n",
    "            leftNum += 1\n",
    "\n",
    "    while leftNum < n:\n",
    "        numbers[leftNum] = 0\n",
    "        leftNum += 1\n",
    "\n",
    "    return numbers\n",
    "\n",
    "nums1 = [0, 1, 0, 3, 12]\n",
    "print(ZeroMove(nums1))\n",
    "\n",
    "num2=[0,1,0,3,12]\n",
    "print(ZeroMove(nums2))"
   ]
  },
  {
   "cell_type": "code",
   "execution_count": null,
   "id": "033bfc79-70a7-4631-9e11-66f3b88f400b",
   "metadata": {},
   "outputs": [],
   "source": []
  },
  {
   "cell_type": "code",
   "execution_count": null,
   "id": "c26b6a2e-02f0-47f1-886f-863980f03649",
   "metadata": {},
   "outputs": [],
   "source": []
  }
 ],
 "metadata": {
  "kernelspec": {
   "display_name": "Python 3 (ipykernel)",
   "language": "python",
   "name": "python3"
  },
  "language_info": {
   "codemirror_mode": {
    "name": "ipython",
    "version": 3
   },
   "file_extension": ".py",
   "mimetype": "text/x-python",
   "name": "python",
   "nbconvert_exporter": "python",
   "pygments_lexer": "ipython3",
   "version": "3.10.6"
  }
 },
 "nbformat": 4,
 "nbformat_minor": 5
}
