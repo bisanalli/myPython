{
 "cells": [
  {
   "cell_type": "markdown",
   "id": "7e0e71e2-5e49-4c36-b027-d2810aac74f2",
   "metadata": {},
   "source": [
    "1. In the below elements which of them are values or an expression? eg:- values can be integer or string and expressions will be mathematical operators.\n",
    "* \n",
    "'hello'\n",
    "-87.8\n",
    "- \n",
    "/ \n",
    "+\t\n",
    "6 \n",
    "\n",
    "Answer: ‘hello’ = String    -87.8 = float   6 = integer\n",
    "These are values because they represent specific data, such as a text, a floating-point number, or an integer.\n",
    " *  - Multiplication operator \n",
    " / - Division operator\n",
    "+  - Addition Operator \n",
    "‘-’  Subtraction Operator \n",
    "-\tUnary negation operator \n",
    "These are expressions because they operation or calculations to be performed on values or variables. \n"
   ]
  },
  {
   "cell_type": "markdown",
   "id": "025bd6ab-1ca4-48aa-b480-9061a3c3900e",
   "metadata": {},
   "source": [
    "2. What is the difference between string and variable?\n",
    "String\n",
    "1.A string is a data type that represents a sequence of characters. It is used to store and manipulate text data.\n",
    "2.Strings are enclosed within quotation marks (either single or double) to differentiate them from variables.\n",
    "ex::name=”Tim”         \n",
    "\n",
    "Variable\n",
    "1.A variable is a named container used to store values of different data types, including strings, numbers, or other objects"
   ]
  },
  {
   "cell_type": "markdown",
   "id": "15225c7f-e4d4-47ba-b57d-3932d22b39d2",
   "metadata": {},
   "source": [
    "3. Describe three different data types.\n",
    " 1. int \n",
    "a=10\n",
    " The integer datatype represents whole numbers. \n",
    "2.String (str)  \n",
    "name =”tim”\n",
    " The string datatype represents sequence of characters. \n",
    "3.List   \n",
    "fruits = [ “apple ” , “mango”,”guva”,”pine”]\n",
    " A list is ordered collections of values. \n",
    "4.tuples  \n",
    " (1, 2, 3,4)\n",
    "Tuple is a ordered immutable collections of values.\n"
   ]
  },
  {
   "cell_type": "markdown",
   "id": "5557f060-d7dc-469e-8141-26e74cba363b",
   "metadata": {},
   "source": [
    "4. What is an expression made up of? What do all expressions do?\n",
    "Expression is combination of variables, operators, and function as simple as a \n",
    "single value or as complex as a combination of multiple sub-expressions.\n",
    "\n",
    "A combination of operands and operators is called an expression. \n",
    "The expression in Python produces some value or result after being interpreted by \n",
    "the Python interpreter. An expression in Python is a combination of operators and operands.\n",
    "\n",
    "The expression in Python produces some value or result after being interpreted by the Python interpreter.\n",
    "An expression in Python is evaluated for some results.\n",
    "The expression evaluation does not result in any state change\n",
    "An expression is not a statement.\n",
    "\n",
    "a=3+3\n",
    "\n"
   ]
  },
  {
   "cell_type": "markdown",
   "id": "0d95be1f-1a96-4785-833d-3fb7c12faf5d",
   "metadata": {},
   "source": [
    "5. This assignment statements, like spam = 10. What is the difference between an expression and a statement?\n",
    "\n",
    " Statement\n",
    "1.A statement in Python is used for creating variables or for displaying values.\n",
    "2.A statement in Python is not evaluated for some results\n",
    "3.The execution of a statement changes the state of the variable.\n",
    "4.A statement can be an expression.\n",
    " \n",
    " expression\n",
    "1.The expression in Python produces some value or result after being interpreted by the Python interpreter.\n",
    "2.An expression in Python is evaluated for some results.\n",
    "3.The expression evaluation does not result in any state change.\n",
    "4.An expression is not a statement.\n",
    " \n",
    "\n"
   ]
  },
  {
   "cell_type": "code",
   "execution_count": 2,
   "id": "c29c229d-8bd1-4f5f-ad69-f5ab3a063b38",
   "metadata": {},
   "outputs": [
    {
     "name": "stdout",
     "output_type": "stream",
     "text": [
      "10\n"
     ]
    }
   ],
   "source": [
    "spam=10\n",
    "print(spam)"
   ]
  },
  {
   "cell_type": "markdown",
   "id": "58030eac-caee-4eb8-99c3-39b62a7b3093",
   "metadata": {},
   "source": [
    "6. After running the following code, what does the variable bacon contain?\n",
    "bacon = 22\n",
    "bacon + 1\n",
    "\n"
   ]
  },
  {
   "cell_type": "code",
   "execution_count": 3,
   "id": "56d50a2d-abd5-4d3a-b88d-f787eef5bf30",
   "metadata": {},
   "outputs": [
    {
     "data": {
      "text/plain": [
       "23"
      ]
     },
     "execution_count": 3,
     "metadata": {},
     "output_type": "execute_result"
    }
   ],
   "source": [
    "bacon = 22\n",
    "bacon + 1"
   ]
  },
  {
   "cell_type": "markdown",
   "id": "ea5501fe-a759-4d9f-b9e3-1c56cc137ca5",
   "metadata": {},
   "source": [
    "7. What should the values of the following two terms be?\n",
    "'spam' + 'spamspam'\n"
   ]
  },
  {
   "cell_type": "code",
   "execution_count": 5,
   "id": "45cc24b9-5535-424a-bb0d-b305f7a28aeb",
   "metadata": {},
   "outputs": [
    {
     "data": {
      "text/plain": [
       "'spamspamspam'"
      ]
     },
     "execution_count": 5,
     "metadata": {},
     "output_type": "execute_result"
    }
   ],
   "source": [
    "'spam' + 'spamspam'\n"
   ]
  },
  {
   "cell_type": "code",
   "execution_count": 6,
   "id": "0fff4970-1a7c-4a87-b44f-4b35183de53b",
   "metadata": {},
   "outputs": [
    {
     "data": {
      "text/plain": [
       "'spamspamspam'"
      ]
     },
     "execution_count": 6,
     "metadata": {},
     "output_type": "execute_result"
    }
   ],
   "source": [
    "'spam' * 3"
   ]
  },
  {
   "cell_type": "markdown",
   "id": "0dade70a-8ae3-46fe-9b67-a48589a9c994",
   "metadata": {},
   "source": [
    "8. Why is eggs a valid variable name while 100 is invalid?\n",
    "\n",
    "eggs  is valid varible name beacuse starting with charcters , 100 is invalid because starting with numbers , in python varible name cannot begin with number.\n"
   ]
  },
  {
   "cell_type": "markdown",
   "id": "bdf2b6cd-36ff-46d3-bd13-e762c1cb24b8",
   "metadata": {},
   "source": [
    "9. What three functions can be used to get the integer, floating-point number, or string version of a value?\n",
    "\n",
    "num= \"100\"\n"
   ]
  },
  {
   "cell_type": "code",
   "execution_count": 6,
   "id": "19224ced-7302-416c-b76d-cde03d3ca5e3",
   "metadata": {},
   "outputs": [
    {
     "name": "stdout",
     "output_type": "stream",
     "text": [
      "int value of string :: 100\n",
      "int value of floating number :: 3\n",
      "String value of int value :: 900\n",
      "floating of int number::  4.0\n"
     ]
    }
   ],
   "source": [
    "num= \"100\"\n",
    "num_int=int(num)\n",
    "print(\"int value of string ::\",num_int)\n",
    "\n",
    "num1=3.1233\n",
    "num1_float=int(num1)\n",
    "print(\"int value of floating number ::\",num1_float)\n",
    "\n",
    "name= 900\n",
    "name_int=str(name)\n",
    "print(\"String value of int value ::\",name_int) \n",
    "\n",
    "num2=4\n",
    "num2_int=float(num2)\n",
    "print(\"floating of int number:: \", num2_int)\n",
    "\n"
   ]
  },
  {
   "cell_type": "markdown",
   "id": "99926138-f699-4c4e-8f50-f32acd38f158",
   "metadata": {},
   "source": [
    "Why does this expression cause an error? How can you fix it?\n",
    "'I have eaten ' + 99 + ' burritos.'"
   ]
  },
  {
   "cell_type": "code",
   "execution_count": 16,
   "id": "e1122d61-e733-4f4a-8d8c-dea2ab6d8121",
   "metadata": {},
   "outputs": [
    {
     "data": {
      "text/plain": [
       "'I have eaten 99 burritos.'"
      ]
     },
     "execution_count": 16,
     "metadata": {},
     "output_type": "execute_result"
    }
   ],
   "source": [
    "#'I have eaten '  + 99 + ' burritos.'\n",
    "#using str() function\n",
    "'I have eaten '  + str(99) + ' burritos.'\n",
    "\n",
    "\n",
    "\n"
   ]
  },
  {
   "cell_type": "code",
   "execution_count": 18,
   "id": "b59b8be8-1f57-4b14-8ca4-e4da54833e69",
   "metadata": {},
   "outputs": [
    {
     "name": "stdout",
     "output_type": "stream",
     "text": [
      "I have eaten 99 burritos.\n"
     ]
    }
   ],
   "source": [
    "# use String Formatting:\n",
    "result = 'I have eaten {} burritos.'.format(99)\n",
    "print(result) "
   ]
  },
  {
   "cell_type": "code",
   "execution_count": null,
   "id": "60248d52-4af1-456b-8141-eb587459bb29",
   "metadata": {},
   "outputs": [],
   "source": []
  },
  {
   "cell_type": "code",
   "execution_count": null,
   "id": "264a1dc5-ca25-4d97-bf53-23cbdc94721c",
   "metadata": {},
   "outputs": [],
   "source": []
  }
 ],
 "metadata": {
  "kernelspec": {
   "display_name": "Python 3 (ipykernel)",
   "language": "python",
   "name": "python3"
  },
  "language_info": {
   "codemirror_mode": {
    "name": "ipython",
    "version": 3
   },
   "file_extension": ".py",
   "mimetype": "text/x-python",
   "name": "python",
   "nbconvert_exporter": "python",
   "pygments_lexer": "ipython3",
   "version": "3.10.6"
  }
 },
 "nbformat": 4,
 "nbformat_minor": 5
}
