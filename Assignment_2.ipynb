{
 "cells": [
  {
   "cell_type": "markdown",
   "id": "406de525-5b36-42ab-9d51-3fd4ba1994a5",
   "metadata": {},
   "source": [
    "1.What are the two values of the Boolean data type? How do you write them?\n",
    "\n",
    "\n",
    "Ans :: two values boolean are  True , False \n",
    "bMatch = True\n",
    "bMatch = False\n",
    "\n",
    "\n",
    "\n"
   ]
  },
  {
   "cell_type": "markdown",
   "id": "d1d563f4-9be3-4204-b741-87d5aad47600",
   "metadata": {},
   "source": [
    "2. What are the three different types of Boolean operators?\n",
    "\n",
    "\n",
    "AND , OR , NOT \n"
   ]
  },
  {
   "cell_type": "markdown",
   "id": "1deaa09f-4591-4cde-8e63-3773a858c964",
   "metadata": {},
   "source": [
    "What are the values of the following expressions?\n",
    "(5 > 4) and (3 == 5)\n",
    "False and False -> False\n",
    "\n",
    "not (5 > 4)\n",
    "not True -> False\n",
    "\n",
    "\n",
    "(5 > 4) or (3 == 5)\n",
    "True or False -> True\n",
    "\n",
    "\n",
    "not ((5 > 4) or (3 == 5))\n",
    "not (True or False) -> not True -> False\n",
    "\n",
    "\n",
    "(True and True) and (True == False)\n",
    "True and False -> False\n",
    "\n",
    "\n",
    "(not False) or (not True)\n",
    "True or False -> True\n",
    "\n",
    "\n",
    "\n",
    "\n",
    "\n"
   ]
  },
  {
   "cell_type": "markdown",
   "id": "165de979-a4f7-4ee8-a86b-204070946c8d",
   "metadata": {},
   "source": [
    "\n",
    "5. What are the six comparison operators?\n",
    "\n",
    "\n",
    "Greater than (>)\n",
    "Less than (<)\n",
    "Greater than or equal to (>=)\n",
    "Less than or equal to (<=)\n",
    "Equal to (==)\n",
    "Not equal to (!=)\n",
    "\n"
   ]
  },
  {
   "cell_type": "code",
   "execution_count": null,
   "id": "c5a8ebd2-1b4e-40f3-acc0-2520893b6500",
   "metadata": {},
   "outputs": [],
   "source": [
    "6. How do you tell the difference between the equal to and assignment operators?Describe a condition and when you would use one.\n",
    "\n",
    "equal opeartor  '=='  is used for comparison\n",
    "assignment operator (=)   is used for assginment\n",
    "\n",
    "The equal to operator (==) is used to determine whether two values or phrases are equal. \n",
    "It returns True if the comparison is successful (the numbers are equal), \n",
    "and False otherwise.\n"
   ]
  },
  {
   "cell_type": "code",
   "execution_count": 1,
   "id": "92bba432-4163-4b99-bff1-5ef0c8a321cb",
   "metadata": {},
   "outputs": [
    {
     "name": "stdout",
     "output_type": "stream",
     "text": [
      "x and y are not equal\n"
     ]
    }
   ],
   "source": [
    "# As an example for equal\n",
    "x = 5\n",
    "y = 7\n",
    "\n",
    "if x == y:\n",
    "    print(\"x and y are equal\")\n",
    "else:\n",
    "    print(\"x and y are not equal\")"
   ]
  },
  {
   "cell_type": "code",
   "execution_count": null,
   "id": "20568323-87fd-47f2-ab79-1597d04740c3",
   "metadata": {},
   "outputs": [],
   "source": [
    "assignment operator (=)   is used for assginment\n",
    "To assign a value to a variable, use the assignment operator (=). It assigns the right-side value to the left-side variable. "
   ]
  },
  {
   "cell_type": "code",
   "execution_count": 2,
   "id": "6002d848-c86a-4c3e-8bb4-cc300c81efbd",
   "metadata": {},
   "outputs": [
    {
     "name": "stdout",
     "output_type": "stream",
     "text": [
      "7\n"
     ]
    }
   ],
   "source": [
    "# As an example for assignment\n",
    "\n",
    "x = 5\n",
    "y = x + 2\n",
    "\n",
    "print(y)  \n"
   ]
  },
  {
   "cell_type": "code",
   "execution_count": 3,
   "id": "276599a1-6190-4d35-b930-632828f91e3f",
   "metadata": {},
   "outputs": [
    {
     "name": "stdout",
     "output_type": "stream",
     "text": [
      "ham\n",
      "spam\n",
      "spam\n"
     ]
    }
   ],
   "source": [
    "# 7 Identify the three blocks in this code:\n",
    "\n",
    "spam = 0\n",
    "if spam == 10:\n",
    "    print('eggs')    #THIS first block of code \n",
    "    \n",
    "if spam > 5:\n",
    "    print('bacon')\n",
    "else:\n",
    "    print('ham')   # this second block of  code\n",
    "    \n",
    "    \n",
    "print('spam')\n",
    "print('spam')     # this thrid block of code , this execute regardles the which condition stasify .\n"
   ]
  },
  {
   "cell_type": "code",
   "execution_count": 8,
   "id": "873ba6ea-12b8-4cd6-86c3-759d1e5d78d1",
   "metadata": {},
   "outputs": [
    {
     "name": "stdin",
     "output_type": "stream",
     "text": [
      "Enter the value of user input :: 1\n"
     ]
    },
    {
     "name": "stdout",
     "output_type": "stream",
     "text": [
      "Hello\n"
     ]
    }
   ],
   "source": [
    "#Write code that prints Hello if 1 is stored in spam, prints Howdy if 2 \n",
    "#is stored in spam, and prints Greetings! if anything else is stored in spam.\n",
    "\n",
    "user_input =(input(\"Enter the value of user input ::\") )\n",
    "user_input=int(user_input)\n",
    "    \n",
    "if user_input ==1:\n",
    "    print(\"Hello\")\n",
    "elif user_input ==2:\n",
    "    print(\"Howdy\")\n",
    "else:\n",
    "    print(\"Greetings!\")"
   ]
  },
  {
   "cell_type": "markdown",
   "id": "675f22f5-b4f4-496b-8bb4-b68db3eacc4b",
   "metadata": {},
   "source": [
    "#9.If your programme is stuck in an endless loop, what keys you’ll press?\n",
    "\n",
    "Pressing Ctrl + C will interrupt the execution of the program and terminate it."
   ]
  },
  {
   "cell_type": "markdown",
   "id": "a3e832e3-63cd-49e7-a894-bafd77cb7f2f",
   "metadata": {},
   "source": [
    "#10. How can you tell the difference between break and continue?\n",
    "\n",
    "break :: The break statement is used to exit a loop,When a break statement is executed, the loop is immediately terminated and the program control flow jumps to the statement immediately following the loop\n",
    "\n",
    "Continue::The continue statement is used to skip the current iteration of a loop. When a continue statement is executed, the program control flow jumps to the next iteration of the loop.\n",
    "\n"
   ]
  },
  {
   "cell_type": "code",
   "execution_count": 14,
   "id": "1709e897-7e18-44e8-99a5-ef4e9985e0ef",
   "metadata": {},
   "outputs": [
    {
     "name": "stdout",
     "output_type": "stream",
     "text": [
      "printing range (10)\n",
      "0\n",
      "1\n",
      "2\n",
      "3\n",
      "4\n",
      "5\n",
      "6\n",
      "7\n",
      "8\n",
      "9\n",
      "printing range (0,10)\n",
      "0\n",
      "1\n",
      "2\n",
      "3\n",
      "4\n",
      "5\n",
      "6\n",
      "7\n",
      "8\n",
      "9\n",
      "printing range (0,10,1)\n",
      "0\n",
      "1\n",
      "2\n",
      "3\n",
      "4\n",
      "5\n",
      "6\n",
      "7\n",
      "8\n",
      "9\n"
     ]
    }
   ],
   "source": [
    "###11. In a for loop, what is the difference between range(10), range(0, 10), and range(0, 10, 1)?\n",
    "print(\"printing range (10)\")\n",
    "for i in range (10):\n",
    "   \n",
    "    print(i)\n",
    "    \n",
    "##  range(10) returns a sequence of numbers from 0 to 9, inclusive.\n",
    "print(\"printing range (0,10)\")\n",
    "for j in range (0,10):\n",
    "    print(j)\n",
    "    \n",
    "#range(0, 10) returns a sequence of numbers from 0 to 9, exclusive.\n",
    "print(\"printing range (0,10,1)\")\n",
    "for h in range (0,10,1):\n",
    "    print(h)\n",
    "\n",
    "# range(0, 10, 1) returns a sequence of numbers from 0 to 9, inclusive, with a step of 1\n"
   ]
  },
  {
   "cell_type": "code",
   "execution_count": 16,
   "id": "3e92b159-49f5-4dc1-8a26-5c4c63e1652d",
   "metadata": {},
   "outputs": [
    {
     "name": "stdout",
     "output_type": "stream",
     "text": [
      "print 1 to 10 number using for loop\n",
      "0\n",
      "1\n",
      "2\n",
      "3\n",
      "4\n",
      "5\n",
      "6\n",
      "7\n",
      "8\n",
      "9\n",
      "print 1 to 10 number using while loop\n",
      "1\n",
      "2\n",
      "3\n",
      "4\n",
      "5\n",
      "6\n",
      "7\n",
      "8\n",
      "9\n",
      "10\n"
     ]
    }
   ],
   "source": [
    "#12. Write a short program that prints the numbers 1 to 10 using a for loop. Then write \n",
    "# an equivalent program that prints the numbers 1 to 10 using a while loop.\n",
    "\n",
    "print(\"print 1 to 10 number using for loop\")\n",
    "for i in range(10):\n",
    "    print(i)\n",
    "    \n",
    "print(\"print 1 to 10 number using while loop\")\n",
    "i=1\n",
    "while i<=10:\n",
    "    print(i)\n",
    "    i+=1"
   ]
  },
  {
   "cell_type": "markdown",
   "id": "f1f400c9-e419-4aeb-9697-d2a8c0da0fd3",
   "metadata": {},
   "source": [
    "13. If you had a function named bacon() inside a module named spam,\n",
    "how would you call it after importing spam?\n",
    "\n",
    "spam.bacon()\n",
    "\n"
   ]
  }
 ],
 "metadata": {
  "kernelspec": {
   "display_name": "Python 3 (ipykernel)",
   "language": "python",
   "name": "python3"
  },
  "language_info": {
   "codemirror_mode": {
    "name": "ipython",
    "version": 3
   },
   "file_extension": ".py",
   "mimetype": "text/x-python",
   "name": "python",
   "nbconvert_exporter": "python",
   "pygments_lexer": "ipython3",
   "version": "3.10.6"
  }
 },
 "nbformat": 4,
 "nbformat_minor": 5
}
